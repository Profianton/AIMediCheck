{
 "cells": [
  {
   "cell_type": "code",
   "execution_count": 5,
   "metadata": {},
   "outputs": [],
   "source": [
    "import numpy as np\n",
    "from glob import glob\n",
    "from PIL import Image\n",
    "import random\n",
    "from image_similarity_measures.quality_metrics import rmse"
   ]
  },
  {
   "cell_type": "code",
   "execution_count": null,
   "metadata": {},
   "outputs": [],
   "source": [
    "\n",
    "imgs=glob(\"pills_by_folder/*/*.png\")\n",
    "imgs_dict={}\n",
    "for img_path in imgs:\n",
    "    pill_type=img_path.split(\"\\\\\")[1]\n",
    "    imgs_dict[pill_type]=imgs_dict.get(pill_type,[])+[Image.open(img_path)]"
   ]
  },
  {
   "cell_type": "code",
   "execution_count": 21,
   "metadata": {},
   "outputs": [],
   "source": [
    "list_res=[]\n",
    "for el1 in sum(imgs_dict.values(),[]):\n",
    "    temp=[]\n",
    "    for el2 in sum(imgs_dict.values(),[]):\n",
    "        res=rmse(org_img=np.array(el1), pred_img=np.array(el2))\n",
    "        temp.append(res)\n",
    "    list_res.append(temp)"
   ]
  },
  {
   "cell_type": "code",
   "execution_count": 28,
   "metadata": {},
   "outputs": [
    {
     "data": {
      "text/plain": [
       "15"
      ]
     },
     "execution_count": 28,
     "metadata": {},
     "output_type": "execute_result"
    }
   ],
   "source": [
    "len(imgs_dict[\"weiß\"])"
   ]
  },
  {
   "cell_type": "code",
   "execution_count": 30,
   "metadata": {},
   "outputs": [],
   "source": [
    "determine_dat={k:v[:4] for k,v in imgs_dict.items()}"
   ]
  },
  {
   "cell_type": "code",
   "execution_count": null,
   "metadata": {},
   "outputs": [],
   "source": [
    "def determine(img):\n",
    "    best_type=\"\"\n",
    "    best_score=1\n",
    "    for test_type in determine_dat.keys():\n",
    "        for test_img in determine_dat[test_type]:\n",
    "            res=rmse(org_img=np.array(img), pred_img=np.array(test_img))\n",
    "            if res<best_score:\n",
    "                best_type=test_type\n",
    "                best_score=res\n",
    "    return best_type"
   ]
  },
  {
   "cell_type": "code",
   "execution_count": 39,
   "metadata": {},
   "outputs": [
    {
     "name": "stdout",
     "output_type": "stream",
     "text": [
      "rot\n",
      "rot\n",
      "rot\n",
      "rot\n",
      "rot\n",
      "rot\n",
      "rot\n",
      "rot\n",
      "rot\n",
      "rot\n",
      "rot\n",
      "rot\n"
     ]
    }
   ],
   "source": [
    "for img in imgs_dict[\"rot\"][4:]:\n",
    "    print(determine(img))"
   ]
  }
 ],
 "metadata": {
  "kernelspec": {
   "display_name": "Python 3",
   "language": "python",
   "name": "python3"
  },
  "language_info": {
   "codemirror_mode": {
    "name": "ipython",
    "version": 3
   },
   "file_extension": ".py",
   "mimetype": "text/x-python",
   "name": "python",
   "nbconvert_exporter": "python",
   "pygments_lexer": "ipython3",
   "version": "3.12.0"
  }
 },
 "nbformat": 4,
 "nbformat_minor": 2
}
