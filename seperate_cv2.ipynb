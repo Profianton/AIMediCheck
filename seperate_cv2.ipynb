{
 "cells": [
  {
   "cell_type": "code",
   "execution_count": 74,
   "metadata": {},
   "outputs": [],
   "source": [
    "from segment import segment\n",
    "from combine import combine\n",
    "from PIL import Image,ImageFilter\n",
    "import numpy as np\n",
    "import matplotlib.pyplot as plt\n",
    "from scipy import ndimage\n",
    "import math\n",
    "\n"
   ]
  },
  {
   "cell_type": "code",
   "execution_count": 75,
   "metadata": {},
   "outputs": [],
   "source": [
    "img=Image.open(r\"images\\9.png\")\n",
    "segmented=segment(img)\n",
    "combined=combine(img,segmented)\n",
    "combined.save(\"img.png\")"
   ]
  },
  {
   "cell_type": "code",
   "execution_count": 81,
   "metadata": {},
   "outputs": [
    {
     "name": "stdout",
     "output_type": "stream",
     "text": [
      "((1615.034423828125, 1232.6785888671875), (389.93463134765625, 395.1799621582031), 29.259113311767578)\n",
      "((400.2854919433594, 1444.3726806640625), (523.5407104492188, 1244.692138671875), 175.4304656982422)\n",
      "((1571.4539794921875, 561.4215087890625), (286.3486633300781, 677.9213256835938), 134.27557373046875)\n"
     ]
    },
    {
     "data": {
      "text/plain": [
       "True"
      ]
     },
     "execution_count": 81,
     "metadata": {},
     "output_type": "execute_result"
    }
   ],
   "source": [
    "import cv2\n",
    "\n",
    "# Load the image\n",
    "#image = cv2.imread('2.png', cv2.IMREAD_GRAYSCALE)\n",
    "image=np.array(combined.convert(\"L\"))\n",
    "image_color=np.array(combined)\n",
    "# Threshold the image to get a binary image\n",
    "_, binary = cv2.threshold(image, 40, 255, cv2.THRESH_BINARY)\n",
    "\n",
    "# Find contours\n",
    "contours, _ = cv2.findContours(binary, cv2.RETR_TREE, cv2.CHAIN_APPROX_SIMPLE)\n",
    "# Fit ellipses\n",
    "ellipses=[]\n",
    "for contour in contours:\n",
    "    if len(contour)<10:# Remove Crap\n",
    "        continue\n",
    "    ellipse = cv2.fitEllipse(contour)\n",
    "    if sum(ellipse[1])<300:# Remove Crap\n",
    "        continue\n",
    "    ellipses.append(ellipse)\n",
    "\n",
    "\n",
    "#remove overlaying ellipses\n",
    "seens=[]\n",
    "for ellipse in ellipses:\n",
    "    for i,seen in enumerate(seens):\n",
    "        if math.dist(ellipse[0], seen[0]) <max(seen[1][0],ellipse[1][0]):\n",
    "            if sum(seen[1])>sum(ellipse[1]):\n",
    "                break\n",
    "            seens[i]=ellipse\n",
    "    else:\n",
    "        seens.append(ellipse)\n",
    "ellipses=seens\n",
    "\n",
    "\n",
    "for ellipse in ellipses:\n",
    "    # Draw the ellipse on the image\n",
    "    cv2.ellipse(image_color, ellipse, (255, 0, 0), 5)\n",
    "    print(ellipse)\n",
    "\n",
    "# Save or display the result\n",
    "cv2.imwrite('fitted_ellipse.png', image_color)\n"
   ]
  },
  {
   "cell_type": "code",
   "execution_count": 77,
   "metadata": {},
   "outputs": [],
   "source": [
    "areas,num=ndimage.label(np.array(segmented).astype(bool))\n",
    "all_edges=[]\n",
    "for i in range(1,num+1):\n",
    "    \n",
    "    coords = np.argwhere(areas == i)\n",
    "    y_min, x_min = coords.min(axis=0)\n",
    "    y_max, x_max = coords.max(axis=0) + 1 # plus 1 to include the max range\n",
    "    img_arr=np.array(img)\n",
    "    img_arr[areas!=i]=0\n",
    "    segmented_=np.array(segmented)\n",
    "    segmented_[areas!=i]=0\n",
    "    edges=np.argwhere(np.array(Image.fromarray(segmented_).filter(ImageFilter.FIND_EDGES)).astype(bool))\n",
    "    all_edges.append(edges)\n",
    "    out_img=Image.fromarray(img_arr)\n",
    "    \n",
    "    out_img =out_img.crop((x_min, y_min, x_max, y_max))\n",
    "    out_img.save(f\"{i}.png\")"
   ]
  }
 ],
 "metadata": {
  "kernelspec": {
   "display_name": "Python 3",
   "language": "python",
   "name": "python3"
  },
  "language_info": {
   "codemirror_mode": {
    "name": "ipython",
    "version": 3
   },
   "file_extension": ".py",
   "mimetype": "text/x-python",
   "name": "python",
   "nbconvert_exporter": "python",
   "pygments_lexer": "ipython3",
   "version": "3.12.0"
  }
 },
 "nbformat": 4,
 "nbformat_minor": 2
}
