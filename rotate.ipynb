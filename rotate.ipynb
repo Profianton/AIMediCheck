{
 "cells": [
  {
   "cell_type": "code",
   "execution_count": 20,
   "metadata": {},
   "outputs": [],
   "source": [
    "from segment import segment_and_separate\n",
    "from combine import combine\n",
    "from PIL import Image,ImageFilter\n",
    "import numpy as np\n",
    "from scipy import ndimage\n",
    "from glob import glob"
   ]
  },
  {
   "cell_type": "code",
   "execution_count": 11,
   "metadata": {},
   "outputs": [],
   "source": [
    "def get_bounding_box(img_nd):\n",
    "    coords = np.argwhere(img_nd)\n",
    "    y_min, x_min = coords.min(axis=0)\n",
    "    y_max, x_max = coords.max(axis=0) + 1\n",
    "    return (x_min, y_min, x_max, y_max)"
   ]
  },
  {
   "cell_type": "code",
   "execution_count": 2,
   "metadata": {},
   "outputs": [],
   "source": [
    "img=Image.open(r\"images\\2.png\")\n",
    "pills=segment_and_separate(img)"
   ]
  },
  {
   "cell_type": "code",
   "execution_count": 3,
   "metadata": {},
   "outputs": [],
   "source": [
    "for i,img in enumerate([pill for pill, mask in pills]):\n",
    "    img.save(f\"{i}.png\")"
   ]
  },
  {
   "cell_type": "code",
   "execution_count": 25,
   "metadata": {},
   "outputs": [],
   "source": [
    "def orient_pills(pills):\n",
    "    pills_orientated=[]\n",
    "    for pill,mask in pills:\n",
    "        mask=np.array(mask).astype(bool)\n",
    "\n",
    "        def grade_rotation_angle(angle):\n",
    "            rotated_mask = ndimage.rotate(mask, angle, reshape=True)\n",
    "\n",
    "            x_min, y_min, x_max, y_max=get_bounding_box(rotated_mask)\n",
    "            return y_max-y_min\n",
    "\n",
    "\n",
    "        angle = min(range(0,360,10),key=grade_rotation_angle)\n",
    "        angle = min(range(angle-10,angle+10,1),key=grade_rotation_angle)\n",
    "\n",
    "        rotated_mask = ndimage.rotate(mask, angle, reshape=True)\n",
    "        rotated_pill=pill.rotate(angle, expand=True).crop(get_bounding_box(rotated_mask))\n",
    "        x_min, y_min, x_max, y_max=get_bounding_box(rotated_mask)\n",
    "        new=Image.new(\"RGB\",(1000,1000))\n",
    "        new.paste(rotated_pill,(int(500-(x_max-x_min)/2),int(500-(y_max-y_min)/2)))\n",
    "        pills_orientated.append(new)\n",
    "    return pills_orientated"
   ]
  },
  {
   "cell_type": "code",
   "execution_count": 27,
   "metadata": {},
   "outputs": [
    {
     "name": "stdout",
     "output_type": "stream",
     "text": [
      "images\\0.png\n",
      "images\\1.png\n",
      "[1196, 438] [1126, 281]\n",
      "[1126, 281] [1196, 438]\n",
      "images\\10.png\n",
      "[1202, 444] [1165, 297]\n",
      "[1165, 297] [1202, 444]\n",
      "images\\11.png\n",
      "[1342, 275] [1332, 447]\n",
      "[1332, 447] [1342, 275]\n",
      "images\\12.png\n",
      "[1532, 700] [1313, 801]\n",
      "[1298, 288] [1532, 700]\n",
      "[1313, 801] [1298, 288]\n",
      "images\\13.png\n",
      "[1840, 657] [1691, 777]\n",
      "[1691, 777] [1840, 657]\n",
      "[1509, 1403] [1344, 1225]\n",
      "[1344, 1225] [1509, 1403]\n",
      "images\\14.png\n",
      "[1746, 719] [1653, 700]\n",
      "[1652, 699] [1532, 706]\n",
      "[1653, 700] [1746, 719]\n",
      "[1532, 706] [1652, 699]\n",
      "images\\15.png\n",
      "[1758, 1059] [1664, 979]\n",
      "[1664, 979] [1758, 1059]\n",
      "images\\16.png\n",
      "images\\2.png\n",
      "[1506, 515] [1468, 240]\n",
      "[1468, 240] [1506, 515]\n",
      "[1233, 938] [1157, 871]\n",
      "[1157, 871] [1233, 938]\n",
      "images\\3.png\n",
      "images\\4.png\n",
      "images\\5.png\n",
      "[985, 1260] [849, 1153]\n",
      "[849, 1153] [985, 1260]\n",
      "[707, 1133] [574, 1294]\n",
      "[574, 1294] [707, 1133]\n",
      "images\\6.png\n",
      "[1427, 1175] [1412, 1162]\n",
      "[1412, 1162] [1427, 1175]\n",
      "images\\7.png\n",
      "[1301, 489] [1288, 497]\n",
      "[1288, 497] [1301, 489]\n",
      "images\\8.png\n",
      "[1198, 428] [1126, 281]\n",
      "[1126, 281] [1198, 428]\n",
      "images\\9.png\n"
     ]
    }
   ],
   "source": [
    "for file in glob(\"images/*\"):\n",
    "    img=Image.open(file)\n",
    "    pills=segment_and_separate(img)\n",
    "    for pill in orient_pills(pills):\n",
    "        pill.save(f\"pills_by_folder/{len(glob(\"pills_by_folder/*\"))}.png\")\n",
    "    print(file)"
   ]
  }
 ],
 "metadata": {
  "kernelspec": {
   "display_name": "Python 3",
   "language": "python",
   "name": "python3"
  },
  "language_info": {
   "codemirror_mode": {
    "name": "ipython",
    "version": 3
   },
   "file_extension": ".py",
   "mimetype": "text/x-python",
   "name": "python",
   "nbconvert_exporter": "python",
   "pygments_lexer": "ipython3",
   "version": "3.12.0"
  }
 },
 "nbformat": 4,
 "nbformat_minor": 2
}
