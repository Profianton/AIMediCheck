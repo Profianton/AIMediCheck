{
 "cells": [
  {
   "cell_type": "code",
   "execution_count": 56,
   "metadata": {},
   "outputs": [],
   "source": [
    "from analyse import analyse\n",
    "from PIL import Image\n",
    "import json\n",
    "from segment import segment_and_separate\n",
    "from orient_pills import orient_pills\n",
    "from PIL import Image\n",
    "import determine\n",
    "import numpy as np\n",
    "from importlib import reload\n",
    "reload(determine)\n",
    "from determine import determine\n"
   ]
  },
  {
   "cell_type": "code",
   "execution_count": 57,
   "metadata": {},
   "outputs": [],
   "source": [
    "def analyse(img:Image.Image,options:list|None=None):\n",
    "    \n",
    "    pills=segment_and_separate(img)\n",
    "    print(\"seg&sep\")\n",
    "    pills=orient_pills(pills)\n",
    "    print(\"oriented\")\n",
    "    \n",
    "    pills=list(filter(lambda pill: np.sum(np.array(pill))>20,pills))\n",
    "    print(\"filtered\")\n",
    "    \n",
    "    for i,pill in enumerate(pills):\n",
    "        pill.save(f\"{i}.png\")\n",
    "    \n",
    "    pills_dict={}\n",
    "    for pill in pills:\n",
    "        pill_type=determine(pill,options)\n",
    "        pills_dict[pill_type]=pills_dict.get(pill_type,0)+1\n",
    "    print(\"determined\")\n",
    "    \n",
    "    return pills_dict\n"
   ]
  },
  {
   "cell_type": "code",
   "execution_count": 58,
   "metadata": {},
   "outputs": [],
   "source": [
    "def read_user(name):\n",
    "    with open(f\"users/{name}.json\",encoding=\"UTF-8\")as f:\n",
    "        return json.load(f)"
   ]
  },
  {
   "cell_type": "code",
   "execution_count": 82,
   "metadata": {},
   "outputs": [],
   "source": [
    "user=read_user(\"user1\")"
   ]
  },
  {
   "cell_type": "code",
   "execution_count": 75,
   "metadata": {},
   "outputs": [
    {
     "name": "stdout",
     "output_type": "stream",
     "text": [
      "seg&sep\n",
      "oriented\n",
      "filtered\n",
      "0.0034407629 gelb_rund\n",
      "0.0054900474 pink\n",
      "0.002682916 weiß\n",
      "0.005199364 rot\n",
      "determined\n"
     ]
    }
   ],
   "source": [
    "pills_in_sample=analyse(Image.open(\"images/29.png\"),user.keys())"
   ]
  },
  {
   "cell_type": "code",
   "execution_count": 76,
   "metadata": {},
   "outputs": [
    {
     "name": "stdout",
     "output_type": "stream",
     "text": [
      "1 gelb_rund\n",
      "1 pink\n",
      "1 weiß\n",
      "1 rot\n"
     ]
    }
   ],
   "source": [
    "print(\"\\n\".join([f\"{count} {pill_type}\" for pill_type,count in pills_in_sample.items()]))"
   ]
  },
  {
   "cell_type": "code",
   "execution_count": 83,
   "metadata": {},
   "outputs": [
    {
     "name": "stdout",
     "output_type": "stream",
     "text": [
      "Es ist 1 weiß Tablette zu viel.\n",
      "Es fehlt 1 gelb_rund Tablette.\n"
     ]
    }
   ],
   "source": [
    "for pill_type in set([*user.keys(),*pills_in_sample.keys()]):\n",
    "    med_plan_pill_type_count=user.get(pill_type,0)\n",
    "    image_pill_type_count=pills_in_sample.get(pill_type,0)\n",
    "    if med_plan_pill_type_count==image_pill_type_count:\n",
    "        continue\n",
    "    if med_plan_pill_type_count>image_pill_type_count:\n",
    "        print(f\"Es fehl{\"en\" if med_plan_pill_type_count>image_pill_type_count+1 else \"t\"} {med_plan_pill_type_count-image_pill_type_count} {pill_type} Tablette.\")\n",
    "    else:\n",
    "        print(f\"Es {\"sind\" if med_plan_pill_type_count<image_pill_type_count-1 else \"ist\"} {image_pill_type_count-med_plan_pill_type_count} {pill_type} Tablette zu viel.\")\n"
   ]
  }
 ],
 "metadata": {
  "kernelspec": {
   "display_name": "Python 3",
   "language": "python",
   "name": "python3"
  },
  "language_info": {
   "codemirror_mode": {
    "name": "ipython",
    "version": 3
   },
   "file_extension": ".py",
   "mimetype": "text/x-python",
   "name": "python",
   "nbconvert_exporter": "python",
   "pygments_lexer": "ipython3",
   "version": "3.12.0"
  }
 },
 "nbformat": 4,
 "nbformat_minor": 2
}
