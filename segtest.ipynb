{
 "cells": [
  {
   "cell_type": "code",
   "execution_count": 61,
   "metadata": {},
   "outputs": [],
   "source": [
    "from PIL import Image,ImageFilter\n",
    "from segment import segment"
   ]
  },
  {
   "cell_type": "code",
   "execution_count": 62,
   "metadata": {},
   "outputs": [],
   "source": [
    "import numpy as np"
   ]
  },
  {
   "cell_type": "code",
   "execution_count": null,
   "metadata": {},
   "outputs": [],
   "source": [
    "def scale_array(arr, new_size): \n",
    "    \"\"\" Resizes a NumPy array like an image.\n",
    "    Parameters:\n",
    "        x (ndarray): The original NumPy array to be resized.\n",
    "        new_size (tuple): The desired shape of the new array.\n",
    "        Returns:\n",
    "            ndarray: The resized NumPy array. \"\"\"\n",
    "    factors = tuple(old/new  for new, old in zip(new_size, arr.shape))\n",
    "    \n",
    "    def pixel(x,y):\n",
    "        return arr[int(x*factors[0]),int(y*factors[1])]\n",
    "    g = np.vectorize(pixel)\n",
    "    return np.fromfunction(g,new_size)"
   ]
  },
  {
   "cell_type": "code",
   "execution_count": 64,
   "metadata": {},
   "outputs": [],
   "source": [
    "in_img=Image.open(r\"segment\\image.jpg\")"
   ]
  },
  {
   "cell_type": "code",
   "execution_count": 65,
   "metadata": {},
   "outputs": [
    {
     "name": "stdout",
     "output_type": "stream",
     "text": [
      "(128, 128)\n"
     ]
    }
   ],
   "source": [
    "seg_img_array:np.ndarray[128,128]=segment(in_img).astype(np.uint8)\n",
    "seg_img_array[seg_img_array!=0]=255"
   ]
  },
  {
   "cell_type": "code",
   "execution_count": 66,
   "metadata": {},
   "outputs": [],
   "source": [
    "img_array = np.array(in_img)"
   ]
  },
  {
   "cell_type": "code",
   "execution_count": 67,
   "metadata": {},
   "outputs": [
    {
     "data": {
      "text/plain": [
       "array([[0, 0, 0, ..., 0, 0, 0],\n",
       "       [0, 0, 0, ..., 0, 0, 0],\n",
       "       [0, 0, 0, ..., 0, 0, 0],\n",
       "       ...,\n",
       "       [0, 0, 0, ..., 0, 0, 0],\n",
       "       [0, 0, 0, ..., 0, 0, 0],\n",
       "       [0, 0, 0, ..., 0, 0, 0]], dtype=uint8)"
      ]
     },
     "execution_count": 67,
     "metadata": {},
     "output_type": "execute_result"
    }
   ],
   "source": [
    "seg_img_array=scale_array(seg_img_array,img_array.shape[:2])\n",
    "seg_img_array"
   ]
  },
  {
   "cell_type": "code",
   "execution_count": 68,
   "metadata": {},
   "outputs": [
    {
     "data": {
      "text/plain": [
       "array([[0, 0, 0, ..., 0, 0, 0],\n",
       "       [0, 0, 0, ..., 0, 0, 0],\n",
       "       [0, 0, 0, ..., 0, 0, 0],\n",
       "       ...,\n",
       "       [0, 0, 0, ..., 0, 0, 0],\n",
       "       [0, 0, 0, ..., 0, 0, 0],\n",
       "       [0, 0, 0, ..., 0, 0, 0]], dtype=uint8)"
      ]
     },
     "execution_count": 68,
     "metadata": {},
     "output_type": "execute_result"
    }
   ],
   "source": [
    "seg_img = Image.fromarray(seg_img_array,\"L\")\n",
    "seg_img = seg_img.filter(ImageFilter.GaussianBlur(radius=20))\n",
    "seg_img_array = np.array(seg_img)\n",
    "\n",
    "seg_img_array[seg_img_array != 255] = 0\n",
    "\n",
    "seg_img = Image.fromarray(seg_img_array,\"L\")\n",
    "seg_img = seg_img.filter(ImageFilter.GaussianBlur(radius=20))\n",
    "seg_img_array = np.array(seg_img)\n",
    "seg_img_array[seg_img_array != 0] = 255\n",
    "seg_img_array"
   ]
  },
  {
   "cell_type": "code",
   "execution_count": 69,
   "metadata": {},
   "outputs": [],
   "source": [
    "img_array[seg_img_array==0]=(0,0,0)\n",
    "\n",
    "out=Image.fromarray(img_array)"
   ]
  },
  {
   "cell_type": "code",
   "execution_count": 70,
   "metadata": {},
   "outputs": [],
   "source": [
    "out.save(\"img.png\")"
   ]
  }
 ],
 "metadata": {
  "kernelspec": {
   "display_name": "Python 3",
   "language": "python",
   "name": "python3"
  },
  "language_info": {
   "codemirror_mode": {
    "name": "ipython",
    "version": 3
   },
   "file_extension": ".py",
   "mimetype": "text/x-python",
   "name": "python",
   "nbconvert_exporter": "python",
   "pygments_lexer": "ipython3",
   "version": "3.12.0"
  }
 },
 "nbformat": 4,
 "nbformat_minor": 2
}
